{
 "cells": [
  {
   "cell_type": "markdown",
   "metadata": {
    "slideshow": {
     "slide_type": "slide"
    }
   },
   "source": [
    "# Introduction to Python for Data Science\n",
    "\n",
    "Ethan Swan & Brad Boehmke\n",
    "\n",
    "July 28 & 30, August 4 & 6, 2020"
   ]
  },
  {
   "cell_type": "markdown",
   "metadata": {
    "slideshow": {
     "slide_type": "slide"
    }
   },
   "source": [
    "## Introductions"
   ]
  },
  {
   "cell_type": "markdown",
   "metadata": {
    "slideshow": {
     "slide_type": "slide"
    }
   },
   "source": [
    "### About Brad"
   ]
  },
  {
   "cell_type": "markdown",
   "metadata": {
    "cell_style": "split",
    "slideshow": {
     "slide_type": "-"
    }
   },
   "source": [
    "### Professional\n",
    "\n",
    "* Director, Advanced Programming and Technology Solutions Team\n",
    "* 84.51&deg;"
   ]
  },
  {
   "cell_type": "markdown",
   "metadata": {
    "cell_style": "split",
    "slideshow": {
     "slide_type": "-"
    }
   },
   "source": [
    "### Academic\n",
    "\n",
    "* BS, Kinesiology, North Dakota State University\n",
    "* MS, Cost Analytics, Air Force Institute of Technology\n",
    "* PhD, Logistics, Air Force Institute of Technology"
   ]
  },
  {
   "cell_type": "markdown",
   "metadata": {
    "slideshow": {
     "slide_type": "subslide"
    }
   },
   "source": [
    "### Contact\n",
    "\n",
    "* Website: [http://bradleyboehmke.github.io/](http://bradleyboehmke.github.io/)\n",
    "* GitHub: [@bradleyboehmke](https://github.com/bradleyboehmke)\n",
    "* Twitter: [@bradleyboehmke](https://twitter.com/bradleyboehmke)\n",
    "* LinkedIn: [Brad Boehmke, PhD](https://www.linkedin.com/in/brad-boehmke-ph-d-9b0a257)\n",
    "* Email: [bradleyboehmke@gmail.com](mailto:bradleyboehmke@gmail.com)"
   ]
  },
  {
   "cell_type": "markdown",
   "metadata": {
    "slideshow": {
     "slide_type": "slide"
    }
   },
   "source": [
    "### About Ethan"
   ]
  },
  {
   "cell_type": "markdown",
   "metadata": {
    "cell_style": "split",
    "slideshow": {
     "slide_type": "-"
    }
   },
   "source": [
    "#### Professional\n",
    "\n",
    "* Lead Data Scientist, Advanced Programming and Technology Solutions Team\n",
    "* 84.51&deg;"
   ]
  },
  {
   "cell_type": "markdown",
   "metadata": {
    "cell_style": "split",
    "slideshow": {
     "slide_type": "-"
    }
   },
   "source": [
    "#### Academic\n",
    "\n",
    "* BS, Computer Science, University of Notre Dame\n",
    "* MBA, Business Analytics, University of Notre Dame"
   ]
  },
  {
   "cell_type": "markdown",
   "metadata": {
    "slideshow": {
     "slide_type": "subslide"
    }
   },
   "source": [
    "#### Contact\n",
    "\n",
    "* Website: [ethanswan.com](http://www.ethanswan.com/)\n",
    "* GitHub: [@eswan18](https://github.com/eswan18/)\n",
    "* Twitter: [@eswan18](https://twitter.com/eswan18)\n",
    "* LinkedIn: [Ethan Swan](https://linkedin.com/in/ethanpswan)\n",
    "* Email: [ethanpswan@gmail.com](mailto:ethanpswan@gmail.com)"
   ]
  },
  {
   "cell_type": "markdown",
   "metadata": {
    "slideshow": {
     "slide_type": "slide"
    }
   },
   "source": [
    "## Course"
   ]
  },
  {
   "cell_type": "markdown",
   "metadata": {
    "slideshow": {
     "slide_type": "slide"
    }
   },
   "source": [
    "### Defining Data Science\n",
    "\n",
    "<center>\n",
    "<img src=\"images/data-science.png\" alt=\"data-science.png\" width=\"900\" height=\"900\">\n",
    "</center>"
   ]
  },
  {
   "cell_type": "markdown",
   "metadata": {
    "slideshow": {
     "slide_type": "slide"
    }
   },
   "source": [
    "### Data Science and Technology\n",
    "\n",
    "<center>\n",
    "<img src=\"images/data-science-and-tech.png\" alt=\"data-science-and-tech.png\" width=\"1100\" height=\"1100\">\n",
    "</center>"
   ]
  },
  {
   "cell_type": "markdown",
   "metadata": {
    "slideshow": {
     "slide_type": "slide"
    }
   },
   "source": [
    "### Applied Data Science\n",
    "\n",
    "<center>\n",
    "<img src=\"images/applied-data-science.gif\" alt=\"applied-data-science.gif\" width=\"1200\" height=\"1200\">\n",
    "</center>"
   ]
  },
  {
   "cell_type": "markdown",
   "metadata": {
    "slideshow": {
     "slide_type": "slide"
    }
   },
   "source": [
    "## Course Objectives\n",
    "\n",
    "The following are the primary learning objectives of this course:"
   ]
  },
  {
   "cell_type": "markdown",
   "metadata": {
    "slideshow": {
     "slide_type": "fragment"
    }
   },
   "source": [
    "1. Develop comprehensive skills in the importing/exporting, wrangling, aggregating and joining of data using Python."
   ]
  },
  {
   "cell_type": "markdown",
   "metadata": {
    "slideshow": {
     "slide_type": "fragment"
    }
   },
   "source": [
    "2. Establish a mental model of the Python programming language to enable future self-learning."
   ]
  },
  {
   "cell_type": "markdown",
   "metadata": {
    "slideshow": {
     "slide_type": "fragment"
    }
   },
   "source": [
    "3. Build awareness and basic skills in the core data science area of data visualization."
   ]
  },
  {
   "cell_type": "markdown",
   "metadata": {
    "slideshow": {
     "slide_type": "slide"
    }
   },
   "source": [
    "## Course Agenda"
   ]
  },
  {
   "cell_type": "markdown",
   "metadata": {
    "slideshow": {
     "slide_type": "slide"
    }
   },
   "source": [
    "| Day       | Topic                                                                          |     Time      |\n",
    "| :--------:| :----------------------------------------------------------------------------- | :-----------: |\n",
    "| __Day 1__ | Introductions                                                                  |  9:00 - 9:15  |\n",
    "|           | Python and Jupyter Overview                                                    |  9:15 - 9:45  |\n",
    "|           | Fundamentals                                                                   |  9:45 - 10:30 |\n",
    "|           | Break                                                                          | 10:30 - 10:45 |\n",
    "|           | Packages, Modules, Methods, Functions                                          | 10:45 - 11:30 |\n",
    "|           | Importing Data                                                                 | 11:30 - 12:00 |\n",
    "|           | Q\\&A                                                                           | 12:00 - 12:30 |\n",
    "| __Day 2__ | Q\\&A                                                                           |  8:30 - 9:00  |\n",
    "|           | Selecting and Filtering Data                                                   |  9:00 - 10:00 |\n",
    "|           | Working with Columns                                                           | 10:00 - 10:45 |\n",
    "|           | Break                                                                          | 10:45 - 11:00 |\n",
    "|           | Case Study, pt. 1                                                              | 11:00 - 12:00 |\n",
    "|           | Q\\&A                                                                           | 12:00 - 12:30 |\n",
    "| __Day 3__ | Q\\&A                                                                           |  8:30 - 9:00  |\n",
    "|           | Review                                                                         |  9:00 - 9:30  |\n",
    "|           | Summarizing Data                                                               |  9:30 - 10:30 |\n",
    "|           | Break                                                                          | 10:30 - 10:45 |\n",
    "|           | Summarizing Grouped Data                                                       | 10:45 - 11:15 |\n",
    "|           | Joining Data                                                                   | 11:15 - 12:00 |\n",
    "|           | Q\\&A                                                                           | 12:00 - 12:30 |\n",
    "| __Day 4__ | Q\\&A                                                                           |  8:30 - 9:00  |\n",
    "|           | Exporting Data                                                                 |  9:00 - 9:30  |\n",
    "|           | Visualizing Data                                                               |  9:30 - 10:30 |\n",
    "|           | Break                                                                          | 10:30 - 10:45 |\n",
    "|           | Case Study, pt. 2                                                              | 10:45 - 11:30 |\n",
    "|           | Q\\&A                                                                           | 11:30 - 12:00 |"
   ]
  },
  {
   "cell_type": "markdown",
   "metadata": {
    "slideshow": {
     "slide_type": "slide"
    }
   },
   "source": [
    "## Technologies"
   ]
  },
  {
   "cell_type": "markdown",
   "metadata": {
    "cell_style": "center",
    "slideshow": {
     "slide_type": "slide"
    }
   },
   "source": [
    "### Binder\n",
    "\n",
    "* We've developed this class using a product named [Binder](https://mybinder.org/).\n",
    "* As a result, this course requires *zero* setup on your part.\n",
    "* There are two core techologies within the Binder repository: Python and Jupyter.\n",
    "\n",
    "*We will cover more on this shortly.*"
   ]
  },
  {
   "cell_type": "markdown",
   "metadata": {
    "cell_style": "split",
    "slideshow": {
     "slide_type": "slide"
    }
   },
   "source": [
    "### Python\n",
    "\n",
    "* Python is the programming language we'll be learning in this class.\n",
    "* We are using Python 3.7 for the entirety of this class.\n",
    "* The core libaries we will be using are `pandas` and `seaborn`."
   ]
  },
  {
   "cell_type": "markdown",
   "metadata": {
    "cell_style": "split",
    "slideshow": {
     "slide_type": "fragment"
    }
   },
   "source": [
    "### Jupyter\n",
    "\n",
    "* Jupyter is the integrated development environment (IDE) we will be using.\n",
    "* This is where we will write and run our Python code.\n"
   ]
  },
  {
   "cell_type": "markdown",
   "metadata": {
    "slideshow": {
     "slide_type": "slide"
    }
   },
   "source": [
    "## Course Material"
   ]
  },
  {
   "cell_type": "markdown",
   "metadata": {
    "slideshow": {
     "slide_type": "fragment"
    }
   },
   "source": [
    "* All of the material for this course can be reached from our [GitHub](https://github.com/uc-python/intro-python-datasci) repository."
   ]
  },
  {
   "cell_type": "markdown",
   "metadata": {
    "slideshow": {
     "slide_type": "fragment"
    }
   },
   "source": [
    "* This repository has access to the slides, notebooks and the training source code."
   ]
  },
  {
   "cell_type": "markdown",
   "metadata": {
    "slideshow": {
     "slide_type": "fragment"
    }
   },
   "source": [
    "* You can either access this material through [Binder](https://mybinder.org/v2/gh/uc-python/intro-python-datasci/master) or by [downloading the material](https://github.com/uc-python/intro-python-datasci/archive/master.zip)\n",
    " and opening it via Anaconda Navigator and Jupyter Notebooks."
   ]
  },
  {
   "cell_type": "markdown",
   "metadata": {
    "slideshow": {
     "slide_type": "slide"
    }
   },
   "source": [
    "### Interactive slides *and* notebooks"
   ]
  },
  {
   "cell_type": "markdown",
   "metadata": {
    "slideshow": {
     "slide_type": "fragment"
    }
   },
   "source": [
    "* Interactive slides will be used to present the material.\n",
    "  * These slides are an **active Python session**, so you can write your code directly within them!"
   ]
  },
  {
   "cell_type": "markdown",
   "metadata": {
    "slideshow": {
     "slide_type": "fragment"
    }
   },
   "source": [
    "* These slides can **only be accessed via Binder**, and are accessed by clicking the \"notebooks\" folder in Jupyter."
   ]
  },
  {
   "cell_type": "markdown",
   "metadata": {
    "slideshow": {
     "slide_type": "fragment"
    }
   },
   "source": [
    "* After opening a notebook, the slides will automatically render. If you want to go to exit the slideshow, you can press `OPTION` + `R` (Mac) or `ALT` + `R` (Windows) to go back to the notebook."
   ]
  },
  {
   "cell_type": "markdown",
   "metadata": {
    "slideshow": {
     "slide_type": "slide"
    }
   },
   "source": [
    "### Source Code"
   ]
  },
  {
   "cell_type": "markdown",
   "metadata": {
    "slideshow": {
     "slide_type": "fragment"
    }
   },
   "source": [
    "* Source code for the training can be found on [GitHub](https://github.com/uc-python/intro-python-datasci)."
   ]
  },
  {
   "cell_type": "markdown",
   "metadata": {
    "slideshow": {
     "slide_type": "fragment"
    }
   },
   "source": [
    "* This repository is public so you can clone (download) and/or refer to the materials at any point in the future."
   ]
  },
  {
   "cell_type": "markdown",
   "metadata": {
    "slideshow": {
     "slide_type": "slide"
    }
   },
   "source": [
    "## Questions\n",
    "\n",
    "Are there any questions before moving on?"
   ]
  }
 ],
 "metadata": {
  "celltoolbar": "Slideshow",
  "kernelspec": {
   "display_name": "uc-python",
   "language": "python",
   "name": "uc-python"
  },
  "language_info": {
   "codemirror_mode": {
    "name": "ipython",
    "version": 3
   },
   "file_extension": ".py",
   "mimetype": "text/x-python",
   "name": "python",
   "nbconvert_exporter": "python",
   "pygments_lexer": "ipython3",
   "version": "3.9.1"
  },
  "rise": {
   "autolaunch": true,
   "transition": "none"
  }
 },
 "nbformat": 4,
 "nbformat_minor": 4
}
